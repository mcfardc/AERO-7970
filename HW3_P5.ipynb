{
  "nbformat": 4,
  "nbformat_minor": 0,
  "metadata": {
    "colab": {
      "provenance": [],
      "authorship_tag": "ABX9TyPemlln6A8vNUS+z5mdE88R",
      "include_colab_link": true
    },
    "kernelspec": {
      "name": "python3",
      "display_name": "Python 3"
    },
    "language_info": {
      "name": "python"
    }
  },
  "cells": [
    {
      "cell_type": "markdown",
      "metadata": {
        "id": "view-in-github",
        "colab_type": "text"
      },
      "source": [
        "<a href=\"https://colab.research.google.com/github/mcfardc/AERO-7970/blob/main/HW3_P5.ipynb\" target=\"_parent\"><img src=\"https://colab.research.google.com/assets/colab-badge.svg\" alt=\"Open In Colab\"/></a>"
      ]
    },
    {
      "cell_type": "markdown",
      "source": [
        "#HW 3 Problem 5\n",
        "This code solves for the most sensitive reactions of methane and hydrogen reacting with air"
      ],
      "metadata": {
        "id": "Nxu887TkCf7o"
      }
    },
    {
      "cell_type": "code",
      "execution_count": 2,
      "metadata": {
        "colab": {
          "base_uri": "https://localhost:8080/"
        },
        "id": "-JoR6W9GCZeS",
        "outputId": "88513d38-eae4-42b9-d225-0f721cc8d63d"
      },
      "outputs": [
        {
          "output_type": "stream",
          "name": "stdout",
          "text": [
            "Collecting Cantera\n",
            "  Downloading cantera-3.1.0-cp311-cp311-manylinux_2_28_x86_64.whl.metadata (9.6 kB)\n",
            "Requirement already satisfied: numpy<3,>=1.12.0 in /usr/local/lib/python3.11/dist-packages (from Cantera) (2.0.2)\n",
            "Collecting ruamel.yaml>=0.15.34 (from Cantera)\n",
            "  Downloading ruamel.yaml-0.18.10-py3-none-any.whl.metadata (23 kB)\n",
            "Collecting ruamel.yaml.clib>=0.2.7 (from ruamel.yaml>=0.15.34->Cantera)\n",
            "  Downloading ruamel.yaml.clib-0.2.12-cp311-cp311-manylinux_2_17_x86_64.manylinux2014_x86_64.whl.metadata (2.7 kB)\n",
            "Downloading cantera-3.1.0-cp311-cp311-manylinux_2_28_x86_64.whl (19.1 MB)\n",
            "\u001b[2K   \u001b[90m━━━━━━━━━━━━━━━━━━━━━━━━━━━━━━━━━━━━━━━━\u001b[0m \u001b[32m19.1/19.1 MB\u001b[0m \u001b[31m44.3 MB/s\u001b[0m eta \u001b[36m0:00:00\u001b[0m\n",
            "\u001b[?25hDownloading ruamel.yaml-0.18.10-py3-none-any.whl (117 kB)\n",
            "\u001b[2K   \u001b[90m━━━━━━━━━━━━━━━━━━━━━━━━━━━━━━━━━━━━━━━━\u001b[0m \u001b[32m117.7/117.7 kB\u001b[0m \u001b[31m3.6 MB/s\u001b[0m eta \u001b[36m0:00:00\u001b[0m\n",
            "\u001b[?25hDownloading ruamel.yaml.clib-0.2.12-cp311-cp311-manylinux_2_17_x86_64.manylinux2014_x86_64.whl (739 kB)\n",
            "\u001b[2K   \u001b[90m━━━━━━━━━━━━━━━━━━━━━━━━━━━━━━━━━━━━━━━━\u001b[0m \u001b[32m739.1/739.1 kB\u001b[0m \u001b[31m15.0 MB/s\u001b[0m eta \u001b[36m0:00:00\u001b[0m\n",
            "\u001b[?25hInstalling collected packages: ruamel.yaml.clib, ruamel.yaml, Cantera\n",
            "Successfully installed Cantera-3.1.0 ruamel.yaml-0.18.10 ruamel.yaml.clib-0.2.12\n"
          ]
        }
      ],
      "source": [
        "!pip install Cantera\n",
        "import cantera as ct\n",
        "import numpy as np\n",
        "import matplotlib.pyplot as plt"
      ]
    },
    {
      "cell_type": "markdown",
      "source": [
        "# Sensitivity when $\\phi$ = 0.7"
      ],
      "metadata": {
        "id": "ZyzSQfgcTlp1"
      }
    },
    {
      "cell_type": "code",
      "source": [
        "gas1 = ct.Solution('gri30.yaml')\n",
        "gas1.TP = 300, ct.one_atm\n",
        "\n",
        "phi1 = .7\n",
        "FUEL1 = 'CH4:.5, H2:.5'\n",
        "OXID1 = 'O2:1, N2:3.76'\n",
        "gas1.set_equivalence_ratio(phi1,FUEL1,OXID1)\n",
        "gas1()\n",
        "#help(gas1)\n",
        "\n",
        "# Domain size in meters\n",
        "w1 = 0.03\n",
        "# Create flame object\n",
        "flame1 = ct.FreeFlame(gas1, width=w1)\n",
        "# Solver tolerance and logging level\n",
        "flame1.set_refine_criteria(ratio = 3, slope = 0.1, curve = 0.1)\n",
        "loglevel = 0\n",
        "# Display other parameters for flame object\n",
        "#help(flame)\n",
        "\n",
        "# Attempt solution\n",
        "flame1.solve(loglevel = loglevel, auto=True)\n",
        "\n",
        "sens1 = flame1.get_flame_speed_reaction_sensitivities()*100\n",
        "rxn1 = gas1.reactions()\n",
        "#print(sens1)\n",
        "print('Reactions and sensitivities when \\u03d5 = {:.1f}'.format(phi1))\n",
        "for j in range(len(sens1)):\n",
        "  if sens1[j] > 9:\n",
        "    print('Reaction: ',rxn1[j])\n",
        "    print('Sensitivity: {:.4f} %'.format(sens1[j]))"
      ],
      "metadata": {
        "colab": {
          "base_uri": "https://localhost:8080/"
        },
        "id": "_63xPkuJC5uR",
        "outputId": "fc4a5d7b-0e60-4733-c064-da1993faaf52"
      },
      "execution_count": 4,
      "outputs": [
        {
          "output_type": "stream",
          "name": "stdout",
          "text": [
            "\n",
            "  gri30:\n",
            "\n",
            "       temperature   300 K\n",
            "          pressure   1.0133e+05 Pa\n",
            "           density   1.0872 kg/m^3\n",
            "  mean mol. weight   26.765 kg/kmol\n",
            "   phase of matter   gas\n",
            "\n",
            "                          1 kg             1 kmol     \n",
            "                     ---------------   ---------------\n",
            "          enthalpy       -1.4462e+05       -3.8708e+06  J\n",
            "   internal energy       -2.3782e+05       -6.3651e+06  J\n",
            "           entropy            7398.4        1.9801e+05  J/K\n",
            "    Gibbs function       -2.3641e+06       -6.3275e+07  J\n",
            " heat capacity c_p            1101.2             29474  J/K\n",
            " heat capacity c_v            790.59             21160  J/K\n",
            "\n",
            "                      mass frac. Y      mole frac. X     chem. pot. / RT\n",
            "                     ---------------   ---------------   ---------------\n",
            "                H2         0.0039644          0.052632           -18.662\n",
            "                O2           0.22473           0.18797           -26.345\n",
            "               CH4          0.031548          0.052632           -55.267\n",
            "                N2           0.73976           0.70677            -23.38\n",
            "     [  +49 minor]                 0                 0  \n",
            "\n",
            "Reactions and sensitivities when ϕ = 0.7\n",
            "Reaction:  H + O2 <=> O + OH\n",
            "Sensitivity: 46.0988 %\n",
            "Reaction:  CO + OH <=> CO2 + H\n",
            "Sensitivity: 19.2650 %\n"
          ]
        }
      ]
    },
    {
      "cell_type": "markdown",
      "source": [
        "# Sensitivity when $\\phi$ = 1"
      ],
      "metadata": {
        "id": "R1l_Rt4ITxha"
      }
    },
    {
      "cell_type": "code",
      "source": [
        "gas2 = ct.Solution('gri30.yaml')\n",
        "gas2.TP = 300, ct.one_atm\n",
        "\n",
        "phi2 = 1\n",
        "FUEL2 = 'CH4:.5, H2:.5'\n",
        "OXID2 = 'O2:1, N2:3.76'\n",
        "gas2.set_equivalence_ratio(phi2,FUEL2,OXID2)\n",
        "gas2()\n",
        "#help(gas2)\n",
        "# Domain size in meters\n",
        "w2 = 0.03\n",
        "# Create flame object\n",
        "flame2 = ct.FreeFlame(gas2, width=w2)\n",
        "# Solver tolerance and logging level\n",
        "flame2.set_refine_criteria(ratio = 3, slope = 0.1, curve = 0.1)\n",
        "loglevel = 0\n",
        "# Display other parameters for flame object\n",
        "#help(flame2)\n",
        "# Attempt solution\n",
        "flame2.solve(loglevel = loglevel, auto=True)\n",
        "sens2 = flame2.get_flame_speed_reaction_sensitivities()*100\n",
        "rxn2 = gas2.reactions()\n",
        "#print(sens2)\n",
        "print('Reactions and sensitivities when \\u03d5 = {:.2f}'.format(phi2))\n",
        "for j in range(len(sens2)):\n",
        "  if sens2[j] > 9:\n",
        "    print('Reaction: ',rxn2[j])\n",
        "    print('Sensitivity: {:.4f} %'.format(sens2[j]))"
      ],
      "metadata": {
        "colab": {
          "base_uri": "https://localhost:8080/"
        },
        "id": "_Fn6UlHmJGb3",
        "outputId": "56383466-9b35-4982-842f-8cd6099443d4"
      },
      "execution_count": 5,
      "outputs": [
        {
          "output_type": "stream",
          "name": "stdout",
          "text": [
            "\n",
            "  gri30:\n",
            "\n",
            "       temperature   300 K\n",
            "          pressure   1.0133e+05 Pa\n",
            "           density   1.0561 kg/m^3\n",
            "  mean mol. weight   25.999 kg/kmol\n",
            "   phase of matter   gas\n",
            "\n",
            "                          1 kg             1 kmol     \n",
            "                     ---------------   ---------------\n",
            "          enthalpy       -2.0428e+05       -5.3112e+06  J\n",
            "   internal energy       -3.0022e+05       -7.8055e+06  J\n",
            "           entropy            7589.3        1.9732e+05  J/K\n",
            "    Gibbs function       -2.4811e+06       -6.4506e+07  J\n",
            " heat capacity c_p            1138.4             29596  J/K\n",
            " heat capacity c_v            818.57             21282  J/K\n",
            "\n",
            "                      mass frac. Y      mole frac. X     chem. pot. / RT\n",
            "                     ---------------   ---------------   ---------------\n",
            "                H2         0.0055785          0.071942           -18.349\n",
            "                O2           0.22136           0.17986           -26.389\n",
            "               CH4          0.044393          0.071942           -54.955\n",
            "                N2           0.72867           0.67626           -23.424\n",
            "     [  +49 minor]                 0                 0  \n",
            "\n",
            "Reactions and sensitivities when ϕ = 1.00\n",
            "Reaction:  H + O2 <=> O + OH\n",
            "Sensitivity: 54.5350 %\n",
            "Reaction:  CO + OH <=> CO2 + H\n",
            "Sensitivity: 10.5385 %\n"
          ]
        }
      ]
    },
    {
      "cell_type": "markdown",
      "source": [
        "# Sensitivity when $\\phi$ = 1.5"
      ],
      "metadata": {
        "id": "lYd3vskAT5Y4"
      }
    },
    {
      "cell_type": "code",
      "source": [
        "gas3 = ct.Solution('gri30.yaml')\n",
        "gas3.TP = 300, ct.one_atm\n",
        "\n",
        "phi3 = 1.5\n",
        "FUEL3 = 'CH4:.5, H2:.5'\n",
        "OXID3 = 'O2:1, N2:3.76'\n",
        "gas3.set_equivalence_ratio(phi3,FUEL3,OXID3)\n",
        "gas3()\n",
        "#help(gas3)\n",
        "# Domain size in meters\n",
        "w3 = 0.03\n",
        "# Create flame object\n",
        "flame3 = ct.FreeFlame(gas3, width=w3)\n",
        "# Solver tolerance and logging level\n",
        "flame3.set_refine_criteria(ratio = 3, slope = 0.1, curve = 0.1)\n",
        "loglevel = 0\n",
        "# Display other parameters for flame object\n",
        "#help(flame3)\n",
        "# Attempt solution\n",
        "flame3.solve(loglevel = loglevel, auto=True)\n",
        "sens3 = flame3.get_flame_speed_reaction_sensitivities()*100\n",
        "rxn3 = gas3.reactions()\n",
        "#print(sens3)\n",
        "print('Reactions and sensitivities when \\u03d5 = {:.2f}'.format(phi3))\n",
        "for j in range(len(sens3)):\n",
        "  if sens3[j] > 9:\n",
        "    print('Reaction: ',rxn3[j])\n",
        "    print('Sensitivity: {:.4f} %'.format(sens3[j]))"
      ],
      "metadata": {
        "colab": {
          "base_uri": "https://localhost:8080/"
        },
        "id": "oOtca8vrS-z_",
        "outputId": "6b60d87e-1112-4b51-8cf1-e1f3c60223dd"
      },
      "execution_count": 6,
      "outputs": [
        {
          "output_type": "stream",
          "name": "stdout",
          "text": [
            "\n",
            "  gri30:\n",
            "\n",
            "       temperature   300 K\n",
            "          pressure   1.0133e+05 Pa\n",
            "           density   1.0099 kg/m^3\n",
            "  mean mol. weight   24.86 kg/kmol\n",
            "   phase of matter   gas\n",
            "\n",
            "                          1 kg             1 kmol     \n",
            "                     ---------------   ---------------\n",
            "          enthalpy       -2.9984e+05        -7.454e+06  J\n",
            "   internal energy       -4.0018e+05       -9.9484e+06  J\n",
            "           entropy            7887.9        1.9609e+05  J/K\n",
            "    Gibbs function       -2.6662e+06       -6.6282e+07  J\n",
            " heat capacity c_p            1197.8             29778  J/K\n",
            " heat capacity c_v            863.39             21464  J/K\n",
            "\n",
            "                      mass frac. Y      mole frac. X     chem. pot. / RT\n",
            "                     ---------------   ---------------   ---------------\n",
            "                H2         0.0081638           0.10067           -18.013\n",
            "                O2           0.21596           0.16779           -26.459\n",
            "               CH4          0.064966           0.10067           -54.619\n",
            "                N2           0.71091           0.63087           -23.494\n",
            "     [  +49 minor]                 0                 0  \n",
            "\n",
            "Reactions and sensitivities when ϕ = 1.50\n",
            "Reaction:  H + O2 <=> O + OH\n",
            "Sensitivity: 77.9038 %\n",
            "Reaction:  C2H4 + H (+M) <=> C2H5 (+M)\n",
            "Sensitivity: 10.4022 %\n",
            "Reaction:  CH3 + HO2 <=> CH3O + OH\n",
            "Sensitivity: 9.5252 %\n"
          ]
        }
      ]
    }
  ]
}